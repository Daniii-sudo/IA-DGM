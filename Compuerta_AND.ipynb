{
  "nbformat": 4,
  "nbformat_minor": 0,
  "metadata": {
    "colab": {
      "provenance": [],
      "authorship_tag": "ABX9TyOImIXpTK5LAvvdFk9xQl6D",
      "include_colab_link": true
    },
    "kernelspec": {
      "name": "python3",
      "display_name": "Python 3"
    },
    "language_info": {
      "name": "python"
    }
  },
  "cells": [
    {
      "cell_type": "markdown",
      "metadata": {
        "id": "view-in-github",
        "colab_type": "text"
      },
      "source": [
        "<a href=\"https://colab.research.google.com/github/Daniii-sudo/IA-DGM/blob/main/Compuerta_AND.ipynb\" target=\"_parent\"><img src=\"https://colab.research.google.com/assets/colab-badge.svg\" alt=\"Open In Colab\"/></a>"
      ]
    },
    {
      "cell_type": "code",
      "execution_count": 8,
      "metadata": {
        "colab": {
          "base_uri": "https://localhost:8080/"
        },
        "id": "DSEhuEz0Ajp1",
        "outputId": "40d22882-ee1c-42fe-9a19-a9b297adccd0"
      },
      "outputs": [
        {
          "output_type": "stream",
          "name": "stdout",
          "text": [
            "\n",
            "1 AND 1 = 1\n"
          ]
        }
      ],
      "source": [
        "x = [1, 1]\n",
        "  #pesos\n",
        "w = [1, 1]\n",
        "\n",
        "s = -1  # Sesgo\n",
        "\n",
        "for i in range(0, 2):\n",
        "    s = s + x[i] * w[i]\n",
        "\n",
        "print()\n",
        "  # AND\n",
        "y_and = 1 if s > 0 else 0\n",
        "print(x[0], 'AND', x[1], '=', y_and)"
      ]
    }
  ]
}