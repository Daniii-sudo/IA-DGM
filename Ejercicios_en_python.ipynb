{
  "nbformat": 4,
  "nbformat_minor": 0,
  "metadata": {
    "colab": {
      "provenance": [],
      "authorship_tag": "ABX9TyNkyynFfrCaK/Qj7jNR8cR9",
      "include_colab_link": true
    },
    "kernelspec": {
      "name": "python3",
      "display_name": "Python 3"
    },
    "language_info": {
      "name": "python"
    }
  },
  "cells": [
    {
      "cell_type": "markdown",
      "metadata": {
        "id": "view-in-github",
        "colab_type": "text"
      },
      "source": [
        "<a href=\"https://colab.research.google.com/github/Daniii-sudo/IA-DGM/blob/main/Ejercicios_en_python.ipynb\" target=\"_parent\"><img src=\"https://colab.research.google.com/assets/colab-badge.svg\" alt=\"Open In Colab\"/></a>"
      ]
    },
    {
      "cell_type": "markdown",
      "source": [
        "# Ejercicio 1"
      ],
      "metadata": {
        "id": "QIB7Srag3hDZ"
      }
    },
    {
      "cell_type": "markdown",
      "source": [
        "se declara un diccionario donde se guardaran los repuestos, y se declara la funcion agregar donde si el nombre esta en el inventario agregara la cantidad, si no esta entonces se agrega como un nuevo repuesto con su cantidad."
      ],
      "metadata": {
        "id": "hD7Wpk6K2Je-"
      }
    },
    {
      "cell_type": "code",
      "execution_count": null,
      "metadata": {
        "id": "trk7XTNag4wE"
      },
      "outputs": [],
      "source": [
        "# diccionario para almacenar los repuestos\n",
        "inventario = {}\n",
        "\n",
        "# agregar\n",
        "def agregar(nombre, cantidad):\n",
        "    if nombre in inventario:\n",
        "        inventario[nombre] += cantidad\n",
        "    else:\n",
        "        inventario[nombre] = cantidad\n",
        "    print(f\"\\nSe han agregado {cantidad} {nombre}.\")"
      ]
    },
    {
      "cell_type": "markdown",
      "source": [
        "se declara el metodo eliminar donde si el repuesto esta en el inventario y es mayor a la cantidad que quiero restar entonces se resta la cantidad, si la cantidad a restar es mayor que la cantidad en mi inventario mostrara un mensaje, al igual si el nombre del repuesto no existe. Si la cantidad de mi inventario es igual a 0 se eliminara."
      ],
      "metadata": {
        "id": "wmQWubEJ2smj"
      }
    },
    {
      "cell_type": "code",
      "source": [
        "#eliminar\n",
        "def eliminar(nombre, cantidad):\n",
        "    if nombre in inventario:\n",
        "        if inventario[nombre] >= cantidad:\n",
        "            inventario[nombre] -= cantidad\n",
        "            print(f\"Se han eliminado {cantidad} {nombre}.\")\n",
        "            if inventario[nombre] == 0:\n",
        "                del inventario[nombre]\n",
        "                print(f\"El repuesto {nombre} se ha eliminado del inventario.\")\n",
        "        else:\n",
        "            print(f\"No hay suficientes {nombre} en el inventario para eliminar {cantidad} {nombre}.\")\n",
        "    else:\n",
        "        print(f\"El repuesto {nombre} no existe en el inventario.\")\n"
      ],
      "metadata": {
        "id": "ruZjCrpdxPPR"
      },
      "execution_count": null,
      "outputs": []
    },
    {
      "cell_type": "markdown",
      "source": [
        "se declara una funcion consulta donde si el inventario esta vacio muestra un mensaje, si no mostrara el inventario para cada repuesto"
      ],
      "metadata": {
        "id": "HhqAHdvT5nhL"
      }
    },
    {
      "cell_type": "code",
      "source": [
        "#consulta\n",
        "def consultar():\n",
        "    if not inventario:\n",
        "        print(\"El inventario está vacío.\")\n",
        "    else:\n",
        "        print(\"Inventario actual:\")\n",
        "        for repuesto_inv, cantidad in inventario.items():\n",
        "            print(f\"{repuesto_inv}: {cantidad} unidades\")"
      ],
      "metadata": {
        "id": "srsrurEAxRte"
      },
      "execution_count": null,
      "outputs": []
    },
    {
      "cell_type": "markdown",
      "source": [
        "se declara una funcion de compra donde si el inventario es menor que la cantidad minima se hace la compra, si no es menor muestra un aviso que no es necesario realizar una compra, igual si el repuesto no existe muestra un aviso"
      ],
      "metadata": {
        "id": "Zcpl58pP61tA"
      }
    },
    {
      "cell_type": "code",
      "source": [
        "#compra\n",
        "def compra(nombre, cantidad, cantidad_minima):\n",
        "    if nombre in inventario:\n",
        "        if inventario[nombre] < cantidad_minima:\n",
        "            print(f\"Inventario bajo de: {nombre}. Realizando compra de {cantidad} {nombre}.\")\n",
        "            agregar(nombre, cantidad)\n",
        "        else:\n",
        "            print(f\"El inventario de {nombre} es suficiente. No es necesario realizar una compra.\")\n",
        "    else:\n",
        "        print(f\"El repuesto {nombre} no existe en el inventario.\")"
      ],
      "metadata": {
        "id": "axqCL22mxTnQ"
      },
      "execution_count": null,
      "outputs": []
    },
    {
      "cell_type": "markdown",
      "source": [
        "menu de opciones para que el usuario use libremente"
      ],
      "metadata": {
        "id": "Yo-Q2OHg7cwl"
      }
    },
    {
      "cell_type": "code",
      "source": [
        "# menu\n",
        "while True:\n",
        "    print(\"\\nMenú de opciones:\")\n",
        "    print(\"1. Agregar repuesto\")\n",
        "    print(\"2. Eliminar repuesto\")\n",
        "    print(\"3. Consultar inventario\")\n",
        "    print(\"4. Realizar compra\")\n",
        "    print(\"5. Salir\")\n",
        "\n",
        "    opcion = input(\"Selecciona una opción: \")\n",
        "\n",
        "    if opcion == '1':\n",
        "        nombre = input(\"Nombre del repuesto: \")\n",
        "        cantidad = int(input(\"Cantidad a agregar: \"))\n",
        "        agregar(nombre, cantidad)\n",
        "\n",
        "    elif opcion == '2':\n",
        "        nombre = input(\"Nombre del repuesto: \")\n",
        "        cantidad = int(input(\"Cantidad a eliminar: \"))\n",
        "        eliminar(nombre, cantidad)\n",
        "\n",
        "    elif opcion == '3':\n",
        "        consultar()\n",
        "\n",
        "    elif opcion == '4':\n",
        "        nombre = input(\"Nombre del repuesto: \")\n",
        "        cantidad = int(input(\"Cantidad a comprar: \"))\n",
        "        cantidad_minima = int(input(\"Cantidad mínima en inventario para realizar la compra: \"))\n",
        "        compra(nombre, cantidad, cantidad_minima)\n",
        "\n",
        "    elif opcion == '5':\n",
        "        print(\"Saliendo del programa.\")\n",
        "        break\n",
        "\n",
        "    else:\n",
        "        print(\"Opción no válida. Inténtalo de nuevo.\")"
      ],
      "metadata": {
        "colab": {
          "base_uri": "https://localhost:8080/"
        },
        "id": "CI2uxT29xVRy",
        "outputId": "3e349059-9c94-4ff5-f647-4491165e5130"
      },
      "execution_count": null,
      "outputs": [
        {
          "output_type": "stream",
          "name": "stdout",
          "text": [
            "\n",
            "Menú de opciones:\n",
            "1. Agregar repuesto\n",
            "2. Eliminar repuesto\n",
            "3. Consultar inventario\n",
            "4. Realizar compra\n",
            "5. Salir\n",
            "Selecciona una opción: 5\n",
            "Saliendo del programa.\n"
          ]
        }
      ]
    },
    {
      "cell_type": "markdown",
      "source": [],
      "metadata": {
        "id": "leCldaOD3qrj"
      }
    },
    {
      "cell_type": "markdown",
      "source": [
        "# Ejercicio 2"
      ],
      "metadata": {
        "id": "Nb5_kDMF3s0y"
      }
    },
    {
      "cell_type": "markdown",
      "source": [
        "Se declara un diccionario para guardar la informarcion y se declara una funcion donde si el empleado no existe entonces se agrega al diccionario, si un proyecto ya existe en un empleado entonces actualiza las horas, si no se agrega el nombre del proyecto, del empleado con las horas y el costo de la tarifa"
      ],
      "metadata": {
        "id": "vUtLZUMR4jtT"
      }
    },
    {
      "cell_type": "code",
      "source": [
        "# diccionario para guardar los empleados y proyectos\n",
        "empleados = {}\n",
        "\n",
        "\n",
        "# funcion para agregar\n",
        "def agregar_horas(empleado,proyecto,horas,tarifa_hora):\n",
        "    if empleado not in empleados:\n",
        "        empleados[empleado]={}\n",
        "\n",
        "    if proyecto in empleados[empleado]:\n",
        "        empleados[empleado][proyecto]['horas'] += horas\n",
        "\n",
        "    else:\n",
        "        empleados[empleado][proyecto] = {'horas': horas, 'tarifa_hora': tarifa_hora}\n",
        "\n",
        "    print(f\"Se han agregado {horas} horas al proyecto {proyecto} para el empleado {empleado}.\")"
      ],
      "metadata": {
        "id": "SSSxpF_U4nLA"
      },
      "execution_count": null,
      "outputs": []
    },
    {
      "cell_type": "markdown",
      "source": [
        "se declara otra funcion para saber el costo total de un empleado de acuerdo a sus proyectos, si no existe un empleado muestra un mensaje que no tiene horas registradas, si si existe entonces nos muestre la informacion del empleado utilizando un ciclo for para cada proyecto accediendo a las horas y el costo de la tarifa, se hacen operaciones para saber el costo del proyecto, sumar la cantidad de horas y la cantidad total del empleado"
      ],
      "metadata": {
        "id": "KheRDlyS5rcN"
      }
    },
    {
      "cell_type": "code",
      "source": [
        "# funcion para saber el costo total\n",
        "def costo_total(empleado):\n",
        "    if empleado not in empleados:\n",
        "        print(f\"El empleado {empleado} no tiene horas registradas.\")\n",
        "        return\n",
        "    else:\n",
        "        total_horas = 0\n",
        "        total_costo = 0\n",
        "    print(f\"\\nResumen del empleado {empleado}:\")\n",
        "\n",
        "    # ciclo for para obtener la informacion\n",
        "    for proyecto, info in empleados[empleado].items():\n",
        "        horas = info['horas']\n",
        "        tarifa = info['tarifa_hora']\n",
        "        costo_proyecto = horas * tarifa\n",
        "        total_horas += horas\n",
        "        total_costo += costo_proyecto\n",
        "        print(f\"Proyecto: {proyecto}, Horas trabajadas: {horas}, Tarifa por hora: ${tarifa}, Costo del proyecto: ${costo_proyecto}\")\n",
        "\n",
        "    print(f\"\\nTotal de horas trabajadas por {empleado}: {total_horas} horas\")\n",
        "    print(f\"Costo total para {empleado}: ${total_costo}\")\n"
      ],
      "metadata": {
        "id": "vluBD7xJ5rog"
      },
      "execution_count": null,
      "outputs": []
    },
    {
      "cell_type": "markdown",
      "source": [
        "menu con opciones donde el usuario podra elegir en cada caso como dar de alta al empleado con el nombre del proyecto, horas y la tarifa"
      ],
      "metadata": {
        "id": "PO5MsFiW7ttV"
      }
    },
    {
      "cell_type": "code",
      "source": [
        "while True:\n",
        "\n",
        "    print(\"\\nMenú de opciones:\")\n",
        "    print(\"1. Agregar empleado,proyecto y horas\")\n",
        "    print(\"2. Costo total\")\n",
        "    print(\"3. Salir\")\n",
        "\n",
        "    opcion = input(\"Selecciona una opción: \")\n",
        "\n",
        "\n",
        "    if opcion =='1':\n",
        "        empleado = input(\"Nombre del empleado: \")\n",
        "        proyecto = input(\"Nombre del proyecto: \")\n",
        "        horas = int(input(\"Cantidad de horas trabajadas: \"))\n",
        "        tarifa_hora = float(input(\"Tarifa por hora: \"))\n",
        "        agregar_horas(empleado, proyecto, horas, tarifa_hora)\n",
        "\n",
        "\n",
        "    elif opcion == '2':\n",
        "        empleado = input(\"Nombre del empleado: \")\n",
        "        costo_total(empleado)\n",
        "\n",
        "\n",
        "\n",
        "    elif opcion == '3':\n",
        "        print(\"Saliendo del programa.\")\n",
        "        break\n",
        "\n",
        "    else:\n",
        "        print(\"Opción no válida. Inténtalo de nuevo.\")"
      ],
      "metadata": {
        "colab": {
          "base_uri": "https://localhost:8080/"
        },
        "id": "3s7pOv_l7uD1",
        "outputId": "7aa7a985-269a-4242-ea7d-082fab4c0b7a"
      },
      "execution_count": null,
      "outputs": [
        {
          "output_type": "stream",
          "name": "stdout",
          "text": [
            "\n",
            "Menú de opciones:\n",
            "1. Agregar empleado,proyecto y horas\n",
            "2. Costo total\n",
            "3. Salir\n",
            "Selecciona una opción: 3\n",
            "Saliendo del programa.\n"
          ]
        }
      ]
    }
  ]
}