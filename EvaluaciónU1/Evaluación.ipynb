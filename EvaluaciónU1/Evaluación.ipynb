{
  "nbformat": 4,
  "nbformat_minor": 0,
  "metadata": {
    "colab": {
      "provenance": [],
      "authorship_tag": "ABX9TyMtL9bWlNPRRGbP6xLdwwwd",
      "include_colab_link": true
    },
    "kernelspec": {
      "name": "python3",
      "display_name": "Python 3"
    },
    "language_info": {
      "name": "python"
    }
  },
  "cells": [
    {
      "cell_type": "markdown",
      "metadata": {
        "id": "view-in-github",
        "colab_type": "text"
      },
      "source": [
        "<a href=\"https://colab.research.google.com/github/Daniii-sudo/IA-DGM/blob/main/Evaluaci%C3%B3nU1/Evaluaci%C3%B3n.ipynb\" target=\"_parent\"><img src=\"https://colab.research.google.com/assets/colab-badge.svg\" alt=\"Open In Colab\"/></a>"
      ]
    },
    {
      "cell_type": "code",
      "execution_count": 1,
      "metadata": {
        "colab": {
          "base_uri": "https://localhost:8080/",
          "height": 842
        },
        "id": "p1cPzQnh6nnP",
        "outputId": "867f3972-9300-4387-e560-dfbaeb96ce7f"
      },
      "outputs": [
        {
          "output_type": "stream",
          "name": "stdout",
          "text": [
            "Ingrese el valor de x0: \n",
            "Por favor, introduzca un valor numérico válido\n",
            "Ingrese el valor de x0: 1\n",
            "Ingrese el valor de x1: 0\n",
            "\n",
            "1 AND 0 = 0\n",
            "1 OR 0 = 1\n",
            "\n",
            "¿Quiere introducir otro datasheet? (s/n)s\n",
            "Ingrese el valor de x0: 1\n",
            "Ingrese el valor de x1: 1\n",
            "\n",
            "1 AND 1 = 1\n",
            "1 OR 1 = 1\n",
            "\n",
            "¿Quiere introducir otro datasheet? (s/n)s\n",
            "Ingrese el valor de x0: 0\n",
            "Ingrese el valor de x1: 0\n",
            "\n",
            "0 AND 0 = 0\n",
            "0 OR 0 = 0\n",
            "\n",
            "¿Quiere introducir otro datasheet? (s/n)0\n",
            "Ingrese el valor de x0: 0\n",
            "Ingrese el valor de x1: 1\n",
            "\n",
            "0 AND 1 = 0\n",
            "0 OR 1 = 1\n"
          ]
        },
        {
          "output_type": "error",
          "ename": "KeyboardInterrupt",
          "evalue": "Interrupted by user",
          "traceback": [
            "\u001b[0;31m---------------------------------------------------------------------------\u001b[0m",
            "\u001b[0;31mKeyboardInterrupt\u001b[0m                         Traceback (most recent call last)",
            "\u001b[0;32m<ipython-input-1-f932fbcdcaa4>\u001b[0m in \u001b[0;36m<cell line: 1>\u001b[0;34m()\u001b[0m\n\u001b[1;32m     31\u001b[0m \u001b[0;34m\u001b[0m\u001b[0m\n\u001b[1;32m     32\u001b[0m \u001b[0;34m\u001b[0m\u001b[0m\n\u001b[0;32m---> 33\u001b[0;31m     \u001b[0mopcion\u001b[0m \u001b[0;34m=\u001b[0m \u001b[0minput\u001b[0m\u001b[0;34m(\u001b[0m\u001b[0;34m\"\\n¿Quiere introducir otro datasheet? (s/n)\"\u001b[0m\u001b[0;34m)\u001b[0m\u001b[0;34m\u001b[0m\u001b[0;34m\u001b[0m\u001b[0m\n\u001b[0m\u001b[1;32m     34\u001b[0m \u001b[0;34m\u001b[0m\u001b[0m\n\u001b[1;32m     35\u001b[0m     \u001b[0;32mif\u001b[0m \u001b[0mopcion\u001b[0m\u001b[0;34m.\u001b[0m\u001b[0mlower\u001b[0m\u001b[0;34m(\u001b[0m\u001b[0;34m)\u001b[0m \u001b[0;34m==\u001b[0m \u001b[0;34m'n'\u001b[0m\u001b[0;34m:\u001b[0m\u001b[0;34m\u001b[0m\u001b[0;34m\u001b[0m\u001b[0m\n",
            "\u001b[0;32m/usr/local/lib/python3.10/dist-packages/ipykernel/kernelbase.py\u001b[0m in \u001b[0;36mraw_input\u001b[0;34m(self, prompt)\u001b[0m\n\u001b[1;32m    849\u001b[0m                 \u001b[0;34m\"raw_input was called, but this frontend does not support input requests.\"\u001b[0m\u001b[0;34m\u001b[0m\u001b[0;34m\u001b[0m\u001b[0m\n\u001b[1;32m    850\u001b[0m             )\n\u001b[0;32m--> 851\u001b[0;31m         return self._input_request(str(prompt),\n\u001b[0m\u001b[1;32m    852\u001b[0m             \u001b[0mself\u001b[0m\u001b[0;34m.\u001b[0m\u001b[0m_parent_ident\u001b[0m\u001b[0;34m,\u001b[0m\u001b[0;34m\u001b[0m\u001b[0;34m\u001b[0m\u001b[0m\n\u001b[1;32m    853\u001b[0m             \u001b[0mself\u001b[0m\u001b[0;34m.\u001b[0m\u001b[0m_parent_header\u001b[0m\u001b[0;34m,\u001b[0m\u001b[0;34m\u001b[0m\u001b[0;34m\u001b[0m\u001b[0m\n",
            "\u001b[0;32m/usr/local/lib/python3.10/dist-packages/ipykernel/kernelbase.py\u001b[0m in \u001b[0;36m_input_request\u001b[0;34m(self, prompt, ident, parent, password)\u001b[0m\n\u001b[1;32m    893\u001b[0m             \u001b[0;32mexcept\u001b[0m \u001b[0mKeyboardInterrupt\u001b[0m\u001b[0;34m:\u001b[0m\u001b[0;34m\u001b[0m\u001b[0;34m\u001b[0m\u001b[0m\n\u001b[1;32m    894\u001b[0m                 \u001b[0;31m# re-raise KeyboardInterrupt, to truncate traceback\u001b[0m\u001b[0;34m\u001b[0m\u001b[0;34m\u001b[0m\u001b[0m\n\u001b[0;32m--> 895\u001b[0;31m                 \u001b[0;32mraise\u001b[0m \u001b[0mKeyboardInterrupt\u001b[0m\u001b[0;34m(\u001b[0m\u001b[0;34m\"Interrupted by user\"\u001b[0m\u001b[0;34m)\u001b[0m \u001b[0;32mfrom\u001b[0m \u001b[0;32mNone\u001b[0m\u001b[0;34m\u001b[0m\u001b[0;34m\u001b[0m\u001b[0m\n\u001b[0m\u001b[1;32m    896\u001b[0m             \u001b[0;32mexcept\u001b[0m \u001b[0mException\u001b[0m \u001b[0;32mas\u001b[0m \u001b[0me\u001b[0m\u001b[0;34m:\u001b[0m\u001b[0;34m\u001b[0m\u001b[0;34m\u001b[0m\u001b[0m\n\u001b[1;32m    897\u001b[0m                 \u001b[0mself\u001b[0m\u001b[0;34m.\u001b[0m\u001b[0mlog\u001b[0m\u001b[0;34m.\u001b[0m\u001b[0mwarning\u001b[0m\u001b[0;34m(\u001b[0m\u001b[0;34m\"Invalid Message:\"\u001b[0m\u001b[0;34m,\u001b[0m \u001b[0mexc_info\u001b[0m\u001b[0;34m=\u001b[0m\u001b[0;32mTrue\u001b[0m\u001b[0;34m)\u001b[0m\u001b[0;34m\u001b[0m\u001b[0;34m\u001b[0m\u001b[0m\n",
            "\u001b[0;31mKeyboardInterrupt\u001b[0m: Interrupted by user"
          ]
        }
      ],
      "source": [
        "#condificion\n",
        "while True:\n",
        "    #valores para x0 y x1 que introduce el usuario\n",
        "    try:\n",
        "        x1 = int(input(\"Ingrese el valor de x0: \"))\n",
        "        x2 = int(input(\"Ingrese el valor de x1: \"))\n",
        "    except ValueError:\n",
        "        print(\"Por favor, introduzca un valor numérico válido\")\n",
        "        continue\n",
        "\n",
        "    #valores ya definidos dentro de una lista\n",
        "    x = [x1, x2]\n",
        "\n",
        "    #pesos para AND y OR\n",
        "    w = [1, 1]\n",
        "\n",
        "    s_and = -1  # Sesgo para AND\n",
        "    s_or = 0  # Sesgo para OR\n",
        "\n",
        "    for i in range(0, 2):\n",
        "        # AND\n",
        "        s_and = s_and + x[i] * w[i]\n",
        "        # OR\n",
        "        s_or = s_or + x[i] * w[i]\n",
        "\n",
        "    print()\n",
        "    # AND\n",
        "    y_and = 1 if s_and > 0 else 0\n",
        "    print(x[0], 'AND', x[1], '=', y_and)\n",
        "\n",
        "    # OR\n",
        "    y_or = 1 if s_or > 0 else 0\n",
        "    print(x[0], 'OR', x[1], '=', y_or)\n",
        "\n",
        "\n",
        "    opcion = input(\"\\n¿Quiere introducir otro datasheet? (s/n)\")\n",
        "\n",
        "    if opcion.lower() == 'n':\n",
        "        print(\"Saliendo del programa.\")\n",
        "        break"
      ]
    }
  ]
}