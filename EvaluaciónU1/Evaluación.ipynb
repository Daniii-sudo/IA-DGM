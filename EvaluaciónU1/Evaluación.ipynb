{
  "nbformat": 4,
  "nbformat_minor": 0,
  "metadata": {
    "colab": {
      "provenance": [],
      "authorship_tag": "ABX9TyMtL9bWlNPRRGbP6xLdwwwd",
      "include_colab_link": true
    },
    "kernelspec": {
      "name": "python3",
      "display_name": "Python 3"
    },
    "language_info": {
      "name": "python"
    }
  },
  "cells": [
    {
      "cell_type": "markdown",
      "metadata": {
        "id": "view-in-github",
        "colab_type": "text"
      },
      "source": [
        "<a href=\"https://colab.research.google.com/github/Daniii-sudo/IA-DGM/blob/main/Evaluaci%C3%B3nU1/Evaluaci%C3%B3n.ipynb\" target=\"_parent\"><img src=\"https://colab.research.google.com/assets/colab-badge.svg\" alt=\"Open In Colab\"/></a>"
      ]
    },
    {
      "cell_type": "code",
      "execution_count": null,
      "metadata": {
        "id": "p1cPzQnh6nnP"
      },
      "outputs": [],
      "source": [
        "#condificion\n",
        "while True:\n",
        "    #valores para x0 y x1 que introduce el usuario\n",
        "    try:\n",
        "        x1 = int(input(\"Ingrese el valor de x0: \"))\n",
        "        x2 = int(input(\"Ingrese el valor de x1: \"))\n",
        "    except ValueError:\n",
        "        print(\"Por favor, introduzca un valor numérico válido\")\n",
        "        continue\n",
        "\n",
        "    #valores ya definidos dentro de una lista\n",
        "    x = [x1, x2]\n",
        "\n",
        "    #pesos para AND y OR\n",
        "    w = [1, 1]\n",
        "\n",
        "    s_and = -1  # Sesgo para AND\n",
        "    s_or = 0  # Sesgo para OR\n",
        "\n",
        "    for i in range(0, 2):\n",
        "        # AND\n",
        "        s_and = s_and + x[i] * w[i]\n",
        "        # OR\n",
        "        s_or = s_or + x[i] * w[i]\n",
        "\n",
        "    print()\n",
        "    # AND\n",
        "    y_and = 1 if s_and > 0 else 0\n",
        "    print(x[0], 'AND', x[1], '=', y_and)\n",
        "\n",
        "    # OR\n",
        "    y_or = 1 if s_or > 0 else 0\n",
        "    print(x[0], 'OR', x[1], '=', y_or)\n",
        "\n",
        "\n",
        "    opcion = input(\"\\n¿Quiere introducir otro datasheet? (s/n)\")\n",
        "\n",
        "    if opcion.lower() == 'n':\n",
        "        print(\"Saliendo del programa.\")\n",
        "        break"
      ]
    }
  ]
}